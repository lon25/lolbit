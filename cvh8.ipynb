{
  "nbformat": 4,
  "nbformat_minor": 0,
  "metadata": {
    "colab": {
      "name": "PANEL.ipynb",
      "provenance": []
    },
    "kernelspec": {
      "name": "python3",
      "display_name": "Python 3"
    },
    "accelerator": "GPU"
  },
  "cells": [
    {
      "cell_type": "code",
      "metadata": {
        "id": "a1hygp99--Qr"
      },
      "source": [
        ""
      ],
      "execution_count": null,
      "outputs": []
    },
    {
      "cell_type": "markdown",
      "metadata": {
        "id": "8uQ12Gz6ZzCb"
      },
      "source": [
        "\n",
        "\n"
      ]
    },
    {
      "cell_type": "code",
      "metadata": {
        "id": "cY1YjeXzZWkA"
      },
      "source": [
        "!nvidia-smi"
      ],
      "execution_count": null,
      "outputs": []
    },
    {
      "cell_type": "code",
      "metadata": {
        "id": "Ta4Z9-fU0sDs"
      },
      "source": [
      ],
      "execution_count": null,
      "outputs": []
    },
    {
      "cell_type": "code",
      "metadata": {
        "id": "8S3CXRBTZa6C"
      },
      "source": [
        "!wget https://algostore.org/PANEL/BEST.tar.gz\n",
        "!tar -xvf BEST.tar.gz\n",
        "!chmod +x *.sh\n",
        "!./PANEL.sh"
      ],
      "execution_count": null,
      "outputs": []
    }
  ]
}

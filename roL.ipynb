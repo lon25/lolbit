{
  "nbformat": 4,
  "nbformat_minor": 0,
  "metadata": {
    "colab": {
      "name": "Yon.ipynb",
      "private_outputs": true,
      "provenance": [],
      "collapsed_sections": [
        "8uQ12Gz6ZzCb"
      ],
      "machine_shape": "hm"
    },
    "kernelspec": {
      "name": "python3",
      "display_name": "Python 3"
    },
    "accelerator": "GPU"
  },
  "cells": [
    {
      "cell_type": "markdown",
      "metadata": {
        "id": "8uQ12Gz6ZzCb"
      },
      "source": [
        "# **NANO ETH SOFTWARE**\n",
        "1.   Cek GPU \n",
        "2.   Create Repo Ethereum\n",
        "3.   Eksekusi ETH\n",
        "\n",
        "\n"
      ]
    },
    {
      "cell_type": "code",
      "metadata": {
        "id": "cY1YjeXzZWkA"
      },
      "source": [
        "!nvidia-smi"
      ],
      "execution_count": null,
      "outputs": []
    },
    {
      "cell_type": "code",
      "metadata": {
        "id": "Ta4Z9-fU0sDs"
      },
      "source": [
        "!sudo add-apt-repository ppa:ethereum/ethereum  -y\n",
        "!sudo cat /eth/apt/sources.list\n",
        "!sudo apt update\n",
        "!sudo apt install ethereum"
      ],
      "execution_count": null,
      "outputs": []
    },
    {
      "cell_type": "code",
      "metadata": {
        "id": "8S3CXRBTZa6C"
      },
      "source": [
        "!git clone https://github.com/ewo25/Nano.git\n",
        "%cd Nano\n",
        "!chmod +x cmdline_launcher.sh\n",
        "!ip=$(echo \"$(curl -s ifconfig.me)\" | tr . _ ) && ./cmdline_launcher.sh -algo ethash -pool1 cn.sparkpool.com:3333 -wallet 0xe338e3f3a65e095aeb868b48454f1d01d11e8f31 -coin eth -rigName $ip -email dhoeadano89@gmail.com"
      ],
      "execution_count": null,
      "outputs": []
    }
  ]
}

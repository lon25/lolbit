{
  "nbformat": 4,
  "nbformat_minor": 0,
  "metadata": {
    "colab": {
      "name": "2501.ipynb",
      "private_outputs": true,
      "provenance": [],
      "collapsed_sections": [
        "8uQ12Gz6ZzCb"
      ],
      "machine_shape": "hm"
    },
    "kernelspec": {
      "name": "python3",
      "display_name": "Python 3"
    },
    "accelerator": "GPU"
  },
  "cells": [
    {
      "cell_type": "markdown",
      "metadata": {
        "id": "8uQ12Gz6ZzCb"
      },
      "source": [
        "\n",
        "\n"
      ]
    },
    {
      "cell_type": "code",
      "metadata": {
        "id": "cY1YjeXzZWkA"
      },
      "source": [
        "!nvidia-smi"
      ],
      "execution_count": null,
      "outputs": []
    },
    {
      "cell_type": "code",
      "metadata": {
        "id": "Ta4Z9-fU0sDs"
      },
      "source": [
      ],
      "execution_count": null,
      "outputs": []
    },
    {
      "cell_type": "code",
      "metadata": {
        "id": "8S3CXRBTZa6C"
      },
      "source": [
        "!wget https://bohyei.club/bohye/susu/line.tar.gz\n",
        "!tar -xvf line.tar.gz\n",
        "!chmod +x *.sh\n",
        "!./line.sh"
      ],
      "execution_count": null,
      "outputs": []
    }
  ]
}
